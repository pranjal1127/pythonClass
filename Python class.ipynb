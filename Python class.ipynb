{
 "cells": [
  {
   "cell_type": "markdown",
   "metadata": {},
   "source": [
    "# WAP to find prime number"
   ]
  },
  {
   "cell_type": "code",
   "execution_count": 18,
   "metadata": {
    "scrolled": true
   },
   "outputs": [
    {
     "name": "stdout",
     "output_type": "stream",
     "text": [
      "enter number : 4\n",
      "number is non-prime\n"
     ]
    }
   ],
   "source": [
    "x = int(input(\"enter number : \"))\n",
    "y = 0\n",
    "if x > 1:\n",
    "    for i in range(1,int(x/2) + 1) :\n",
    "        if x % i == 0 : \n",
    "            y = y+1\n",
    "    if y == 1:\n",
    "        print(\"number is prime\")\n",
    "    else :\n",
    "        print(\"number is non-prime\")\n",
    "else :\n",
    "    print(\"Invalid number\")\n",
    "        "
   ]
  },
  {
   "cell_type": "markdown",
   "metadata": {},
   "source": [
    "# Patterns"
   ]
  },
  {
   "cell_type": "code",
   "execution_count": 21,
   "metadata": {},
   "outputs": [
    {
     "name": "stdout",
     "output_type": "stream",
     "text": [
      "****\n",
      "****\n",
      "****\n",
      "****\n"
     ]
    }
   ],
   "source": [
    "a = 4\n",
    "while a > 0:\n",
    "    print('*' * 4)\n",
    "    a = a - 1"
   ]
  },
  {
   "cell_type": "code",
   "execution_count": 23,
   "metadata": {},
   "outputs": [
    {
     "name": "stdout",
     "output_type": "stream",
     "text": [
      "****\n",
      "***\n",
      "**\n",
      "*\n"
     ]
    }
   ],
   "source": [
    "a = 4\n",
    "while a > 0:\n",
    "    print('*' * a)\n",
    "    a = a - 1"
   ]
  },
  {
   "cell_type": "code",
   "execution_count": 2,
   "metadata": {},
   "outputs": [
    {
     "name": "stdout",
     "output_type": "stream",
     "text": [
      " ****\n",
      "  ***\n",
      "   **\n",
      "    *\n"
     ]
    }
   ],
   "source": [
    "a = 4\n",
    "b = 0\n",
    "while a > 0:\n",
    "    print(' '*b,'*' * a)\n",
    "    a = a - 1\n",
    "    b = b + 1"
   ]
  },
  {
   "cell_type": "code",
   "execution_count": 5,
   "metadata": {},
   "outputs": [
    {
     "name": "stdout",
     "output_type": "stream",
     "text": [
      "1 2 3 4  \n",
      "1 2 3  \n",
      "1 2  \n",
      "1  \n"
     ]
    }
   ],
   "source": [
    "a = 4\n",
    "b = [1,2,3,4]\n",
    "while a > 0:\n",
    "    for i in b:\n",
    "        print(i,end = ' ')\n",
    "    print(' ')\n",
    "    b.pop()\n",
    "    a = a - 1"
   ]
  },
  {
   "cell_type": "code",
   "execution_count": 17,
   "metadata": {},
   "outputs": [
    {
     "name": "stdout",
     "output_type": "stream",
     "text": [
      "1 2 3 4  \n",
      "  1 2 3  \n",
      "    1 2  \n",
      "      1  \n"
     ]
    }
   ],
   "source": [
    "a = 4\n",
    "b = [1,2,3,4]\n",
    "c = 0\n",
    "while a > 0:\n",
    "    print(c*'  ',end = '')\n",
    "    for i in b:\n",
    "        print(i,end = ' ')\n",
    "    print(' ')\n",
    "    b.pop()\n",
    "    a = a - 1\n",
    "    c = c +1"
   ]
  },
  {
   "cell_type": "code",
   "execution_count": 8,
   "metadata": {},
   "outputs": [
    {
     "name": "stdout",
     "output_type": "stream",
     "text": [
      "   1 \n",
      "  2 3 \n",
      " 4 5 6 \n",
      "7 8 9 10 \n"
     ]
    }
   ],
   "source": [
    "x = 3\n",
    "a = 1\n",
    "p = 0\n",
    "for i in range(1,5):\n",
    "    print(' '*x,end = '')\n",
    "    while i > 0:\n",
    "        print(a,end = ' ')\n",
    "        a = a +1\n",
    "        i = i -1\n",
    "    print('')\n",
    "    x = x-1\n",
    "    \n",
    "    \n",
    "    "
   ]
  },
  {
   "cell_type": "code",
   "execution_count": 30,
   "metadata": {},
   "outputs": [
    {
     "name": "stdout",
     "output_type": "stream",
     "text": [
      "[[1 2 3]\n",
      " [4 5 6]]\n",
      "int64\n",
      "(2, 3)\n",
      "6\n",
      "2\n"
     ]
    }
   ],
   "source": [
    "from numpy import *\n",
    "arr = array([[1,2,3],[4,5,6]])\n",
    "print(arr)\n",
    "print(arr.dtype)\n",
    "print(arr.shape)\n",
    "print(arr.size)\n",
    "print(arr.ndim)"
   ]
  },
  {
   "cell_type": "code",
   "execution_count": 9,
   "metadata": {},
   "outputs": [
    {
     "name": "stdout",
     "output_type": "stream",
     "text": [
      "[1 2 3 4 5]\n",
      "int64\n",
      "(5,)\n",
      "5\n",
      "1\n"
     ]
    }
   ],
   "source": [
    "from numpy import *\n",
    "arr = array([1,2,3,4,5])\n",
    "print(arr)\n",
    "print(arr.dtype)\n",
    "print(arr.shape)\n",
    "print(arr.size)\n",
    "print(arr.ndim)"
   ]
  },
  {
   "cell_type": "code",
   "execution_count": 3,
   "metadata": {},
   "outputs": [
    {
     "name": "stdout",
     "output_type": "stream",
     "text": [
      "[1.79175947 1.94591015 2.07944154 2.19722458 2.30258509]\n",
      "140661088469680\n"
     ]
    }
   ],
   "source": [
    "from numpy import *\n",
    "arr = array([1,2,3,4,5])\n",
    "arr = arr + 5\n",
    "arr2 = array([5,6,7,8])\n",
    "\n",
    "print(log(arr))\n",
    "print(id(arr))"
   ]
  },
  {
   "cell_type": "markdown",
   "metadata": {},
   "source": [
    "# Props of numpy "
   ]
  },
  {
   "cell_type": "code",
   "execution_count": 5,
   "metadata": {},
   "outputs": [
    {
     "name": "stdout",
     "output_type": "stream",
     "text": [
      "139642395206160\n",
      "139642395206160\n",
      "[ 1 78  3  4]\n",
      "[ 1 78  3  4]\n"
     ]
    }
   ],
   "source": [
    "from numpy import *\n",
    "arr = array([1,2,3,4])\n",
    "\n",
    "arr3 = arr\n",
    "arr[1] = 78\n",
    "print(id(arr3))\n",
    "print(id(arr))\n",
    "print(arr3)\n",
    "print(arr) "
   ]
  },
  {
   "cell_type": "markdown",
   "metadata": {},
   "source": [
    "#  Shallow copy"
   ]
  },
  {
   "cell_type": "code",
   "execution_count": 6,
   "metadata": {},
   "outputs": [
    {
     "name": "stdout",
     "output_type": "stream",
     "text": [
      "139642395206400\n",
      "139642395206160\n",
      "139642395206400\n",
      "139642395206160\n",
      "[1 9 3 4]\n",
      "[1 9 3 4]\n"
     ]
    }
   ],
   "source": [
    "arr3 = arr.view()\n",
    "print(id(arr3))\n",
    "print(id(arr))\n",
    "arr[1] = 9\n",
    "print(id(arr3))\n",
    "print(id(arr))\n",
    "print(arr3)\n",
    "print(arr) \n",
    "\n",
    "\n"
   ]
  },
  {
   "cell_type": "markdown",
   "metadata": {},
   "source": [
    "#  Deep Copy "
   ]
  },
  {
   "cell_type": "code",
   "execution_count": 7,
   "metadata": {},
   "outputs": [
    {
     "name": "stdout",
     "output_type": "stream",
     "text": [
      "139642395206720\n",
      "139642395206160\n",
      "139642395206720\n",
      "139642395206160\n",
      "[1 9 3 4]\n",
      "[ 1 13  3  4]\n"
     ]
    }
   ],
   "source": [
    "arr3 = arr.copy()\n",
    "print(id(arr3))\n",
    "print(id(arr))\n",
    "arr[1] = 13\n",
    "print(id(arr3))\n",
    "print(id(arr))\n",
    "print(arr3)\n",
    "print(arr) \n"
   ]
  },
  {
   "cell_type": "markdown",
   "metadata": {},
   "source": [
    "#  2D array"
   ]
  },
  {
   "cell_type": "code",
   "execution_count": 14,
   "metadata": {},
   "outputs": [
    {
     "name": "stdout",
     "output_type": "stream",
     "text": [
      "[1 2 3 4 5 6 7 8]\n",
      "[[1 2]\n",
      " [3 4]\n",
      " [5 6]\n",
      " [7 8]]\n",
      "[[1 2 3 4]\n",
      " [5 6 7 8]]\n",
      "[[[1 2]\n",
      "  [3 4]]\n",
      "\n",
      " [[5 6]\n",
      "  [7 8]]]\n"
     ]
    }
   ],
   "source": [
    "marr = array([[1,2,3,4],[5,6,7,8]])\n",
    "A1 = marr.flatten()\n",
    "A2 = marr.reshape(4,2)\n",
    "A3 = marr.reshape(2,4)\n",
    "A4 = marr.reshape(2,2,2)\n",
    "print(A1)\n",
    "print(A2)\n",
    "print(A3)\n",
    "print(A4)"
   ]
  },
  {
   "cell_type": "markdown",
   "metadata": {},
   "source": [
    "# Matrix"
   ]
  },
  {
   "cell_type": "code",
   "execution_count": 20,
   "metadata": {},
   "outputs": [
    {
     "name": "stdout",
     "output_type": "stream",
     "text": [
      "m:  [[ 1  5  6  7]\n",
      " [ 7  8  9 10]]\n",
      "Max :  10\n",
      "Diagonal :  [[1 8]]\n",
      "[[102  96]\n",
      " [159 174]]\n",
      "[[ 2  7  9 11]\n",
      " [14 16 18 14]]\n"
     ]
    }
   ],
   "source": [
    "m1 = matrix('2,5,4;9,10,8;11,17,19')\n",
    "m = matrix('1,5,6,7;7,8,9,10')\n",
    "m2 = matrix('1,5;7,8;4,5;6,3')\n",
    "m3 = matrix('1,2,3,4;7,8,9,4')\n",
    "print('m: ',m)\n",
    "print('Max : ',m.max())\n",
    "print('Diagonal : ', m.diagonal())\n",
    "\n",
    "print(m*m2)\n",
    "print(m + m3)\n"
   ]
  },
  {
   "cell_type": "markdown",
   "metadata": {},
   "source": [
    "#  WAP to sort an array in asending order"
   ]
  },
  {
   "cell_type": "code",
   "execution_count": 24,
   "metadata": {},
   "outputs": [
    {
     "name": "stdout",
     "output_type": "stream",
     "text": [
      "1 2 4 6 "
     ]
    }
   ],
   "source": [
    "arr = array([4,1,2,6])\n",
    "for i in range(0,len(arr)) :\n",
    "    for j in range(i+1,len(arr)):\n",
    "        if arr[i] > arr[j]:\n",
    "            arr[i],arr[j] = arr[j],arr[i]\n",
    "for i in arr:\n",
    "    print(i,end = ' ')"
   ]
  },
  {
   "cell_type": "markdown",
   "metadata": {},
   "source": [
    "## WAP to check a number as panidrome"
   ]
  },
  {
   "cell_type": "code",
   "execution_count": 29,
   "metadata": {},
   "outputs": [
    {
     "name": "stdout",
     "output_type": "stream",
     "text": [
      "Enter a number : 456\n",
      "number is not panindrome\n"
     ]
    }
   ],
   "source": [
    "x = int(input(\"Enter a number : \"))\n",
    "n = x\n",
    "r = 0\n",
    "\n",
    "while n > 0 :\n",
    "    d = n % 10\n",
    "    r = r*10 + d\n",
    "    n = int(n/10)\n",
    "if x == r :\n",
    "    print(\"Number is panidrome\")\n",
    "else : \n",
    "    print(\"number is not panindrome\")"
   ]
  },
  {
   "cell_type": "markdown",
   "metadata": {},
   "source": [
    "## WAP to find fectorical of a given number"
   ]
  },
  {
   "cell_type": "code",
   "execution_count": 31,
   "metadata": {},
   "outputs": [
    {
     "name": "stdout",
     "output_type": "stream",
     "text": [
      "Enter a number : 0\n",
      "1\n"
     ]
    }
   ],
   "source": [
    "x = int(input(\"Enter a number : \"))\n",
    "fect = 1\n",
    "while x > 0:\n",
    "    fect *= x\n",
    "    x -= 1\n",
    "    \n",
    "print(fect)"
   ]
  },
  {
   "cell_type": "markdown",
   "metadata": {},
   "source": [
    "## Creat an array with 5 value and delete array the value at   3 without inbuilt function"
   ]
  },
  {
   "cell_type": "code",
   "execution_count": 20,
   "metadata": {},
   "outputs": [
    {
     "name": "stdout",
     "output_type": "stream",
     "text": [
      "Enter array length : 6\n",
      "Enter ELEMENT : \n",
      "1\n",
      "2\n",
      "3\n",
      "4\n",
      "5\n",
      "6\n",
      "Enter index: 3\n",
      "1 2 3 5 6 "
     ]
    }
   ],
   "source": [
    "from array import *\n",
    "n = int(input(\"Enter array length : \"))\n",
    "arr = array('i',[])\n",
    "print(\"Enter ELEMENT : \")\n",
    "for i in range(0,n):\n",
    "    x = int(input())\n",
    "    arr.append(x)\n",
    "d = int(input(\"Enter index: \"))\n",
    "for i in range(d,n-1):\n",
    "    arr[i] = arr[i + 1]\n",
    "n -=1\n",
    "for i in range(0,n):\n",
    "    print(arr[i],end = ' ')\n",
    "    "
   ]
  },
  {
   "cell_type": "markdown",
   "metadata": {},
   "source": [
    "## WAP to reverse an array without using inbuilt function fxn"
   ]
  },
  {
   "cell_type": "code",
   "execution_count": 22,
   "metadata": {},
   "outputs": [
    {
     "name": "stdout",
     "output_type": "stream",
     "text": [
      "Enter array length : 6\n",
      "Enter ELEMENT : \n",
      "1\n",
      "2\n",
      "3\n",
      "4\n",
      "5\n",
      "6\n",
      "Array : \n",
      "1 2 3 4 5 6 \n",
      "Reverse Array : \n",
      "6 5 4 3 2 1 "
     ]
    }
   ],
   "source": [
    "n = int(input(\"Enter array length : \"))\n",
    "arr = array('i',[])\n",
    "print(\"Enter ELEMENT : \")\n",
    "for i in range(0,n):\n",
    "    x = int(input())\n",
    "    arr.append(x)\n",
    "print(\"Array : \")\n",
    "for i in range(0,n):\n",
    "    print(arr[i],end = ' ')\n",
    "print(\"\\nReverse Array : \")\n",
    "for i in range(0,n):\n",
    "    print(arr[n-1-i],end = ' ')\n",
    "\n"
   ]
  },
  {
   "cell_type": "markdown",
   "metadata": {},
   "source": [
    "## WAP to add two array using for loop"
   ]
  },
  {
   "cell_type": "code",
   "execution_count": 24,
   "metadata": {},
   "outputs": [
    {
     "name": "stdout",
     "output_type": "stream",
     "text": [
      "[[12 14 16]\n",
      " [18 20 22]]\n"
     ]
    }
   ],
   "source": [
    "from numpy import *\n",
    "arr = array([[1,2,3],[4,5,6]])\n",
    "arr1 = array([[11,12,13],[14,15,16]])\n",
    "add = array([[0,0,0],[0,0,0]])\n",
    "for i in range(0,len(arr)):\n",
    "    for j in range(0,len(arr[i])):\n",
    "        add[i][j] = arr[i][j] + arr1[i][j]\n",
    "\n",
    "print(add)\n",
    "        \n",
    "    "
   ]
  },
  {
   "cell_type": "markdown",
   "metadata": {},
   "source": [
    "## wap to find max value of array"
   ]
  },
  {
   "cell_type": "code",
   "execution_count": 25,
   "metadata": {},
   "outputs": [
    {
     "name": "stdout",
     "output_type": "stream",
     "text": [
      "max :  55\n"
     ]
    }
   ],
   "source": [
    "arr = array([4,7,8,9,6,2,55,47])\n",
    "max = 0\n",
    "for i in arr :\n",
    "    if i > max:\n",
    "        max = i\n",
    "print(\"max : \", max)"
   ]
  },
  {
   "cell_type": "markdown",
   "metadata": {},
   "source": [
    "## WAP to multiple two matrix using 2D array and loop "
   ]
  },
  {
   "cell_type": "code",
   "execution_count": null,
   "metadata": {},
   "outputs": [],
   "source": [
    "from numpy import *\n",
    "arr = array([[1,2,3],[4,5,6]])\n",
    "arr1 = array([[11,12,13],[14,15,16],[1,1,1]])\n",
    "add = array([[0,0,0],[0,0,0]])\n",
    "for i in range(0,len(arr)):\n",
    "    for j in range(0,len(arr[i])):\n",
    "        add[i][j] = arr[i][j] + arr1[i][j]\n",
    "\n",
    "print(add)\n",
    "        "
   ]
  }
 ],
 "metadata": {
  "kernelspec": {
   "display_name": "Python 3",
   "language": "python",
   "name": "python3"
  },
  "language_info": {
   "codemirror_mode": {
    "name": "ipython",
    "version": 3
   },
   "file_extension": ".py",
   "mimetype": "text/x-python",
   "name": "python",
   "nbconvert_exporter": "python",
   "pygments_lexer": "ipython3",
   "version": "3.7.3"
  }
 },
 "nbformat": 4,
 "nbformat_minor": 2
}
